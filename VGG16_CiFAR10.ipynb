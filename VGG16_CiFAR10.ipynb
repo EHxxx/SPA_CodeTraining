{
  "nbformat": 4,
  "nbformat_minor": 0,
  "metadata": {
    "colab": {
      "name": "VGG16_CiFAR10.ipynb",
      "provenance": [],
      "collapsed_sections": [],
      "mount_file_id": "1oUhUPbukk4DzyVItk-BL4JnqJARCWFvq",
      "authorship_tag": "ABX9TyP21+1DV3Nr7jnCKGcDEMgx",
      "include_colab_link": true
    },
    "kernelspec": {
      "name": "python3",
      "display_name": "Python 3"
    },
    "language_info": {
      "name": "python"
    },
    "accelerator": "GPU"
  },
  "cells": [
    {
      "cell_type": "markdown",
      "metadata": {
        "id": "view-in-github",
        "colab_type": "text"
      },
      "source": [
        "<a href=\"https://colab.research.google.com/github/HOSilvL/SPA_CodeTraining/blob/main/VGG16_CiFAR10.ipynb\" target=\"_parent\"><img src=\"https://colab.research.google.com/assets/colab-badge.svg\" alt=\"Open In Colab\"/></a>"
      ]
    },
    {
      "cell_type": "code",
      "execution_count": 60,
      "metadata": {
        "colab": {
          "base_uri": "https://localhost:8080/"
        },
        "id": "tBLqTdMPPMJI",
        "outputId": "ecedd043-c11e-4f08-8f8e-7cd0e15d5fa9"
      },
      "outputs": [
        {
          "output_type": "stream",
          "name": "stdout",
          "text": [
            "cuda\n"
          ]
        }
      ],
      "source": [
        "import torch\n",
        "import torch.nn as nn\n",
        "import torch.nn.functional as F\n",
        "import torchvision\n",
        "import torchvision.transforms as transforms\n",
        "from torchvision import models\n",
        "import numpy as np\n",
        "import pandas as pd\n",
        "import matplotlib.pyplot as plt\n",
        "import seaborn as sns\n",
        "import gc\n",
        "gc.collect()\n",
        "torch.cuda.empty_cache()\n",
        "device = torch.device(\"cuda\" if torch.cuda.is_available() else \"cpu\")\n",
        "print(device)\n",
        "num_epochs = 15\n",
        "batch_size = 50\n",
        "learning_rate = 0.001\n",
        "classes = ('plane', 'car' , 'bird',\n",
        "    'cat', 'deer', 'dog',\n",
        "    'frog', 'horse', 'ship', 'truck')"
      ]
    },
    {
      "cell_type": "code",
      "source": [
        "train_transform = transforms.Compose([\n",
        "    transforms.Resize(size=(224, 224)),\n",
        "    transforms.RandomHorizontalFlip(),\n",
        "    transforms.RandomRotation(10),\n",
        "    transforms.RandomAffine(0, shear=10, scale=(0.8, 1.2)),\n",
        "    transforms.ColorJitter(brightness=0.2, contrast=0.2, saturation=0.2),\n",
        "    transforms.ToTensor(),\n",
        "    transforms.Normalize( \n",
        "       (0.4914, 0.4822, 0.4465), (0.2023, 0.1994, 0.2010) \n",
        "    )\n",
        "])\n",
        "\n",
        "transform = transforms.Compose([\n",
        "    transforms.Resize(size=(224, 224)),\n",
        "    transforms.ToTensor(),\n",
        "    transforms.Normalize( \n",
        "       (0.4914, 0.4822, 0.4465), (0.2023, 0.1994, 0.2010) \n",
        "    )\n",
        "])\n",
        "train_dataset = torchvision.datasets.CIFAR10(\n",
        "    root= './data', train = True,\n",
        "    download =True, transform = train_transform)\n",
        "test_dataset = torchvision.datasets.CIFAR10(\n",
        "    root= './data', train = False,\n",
        "    download =True, transform = transform)"
      ],
      "metadata": {
        "colab": {
          "base_uri": "https://localhost:8080/"
        },
        "id": "kpCsKBgLPWA3",
        "outputId": "6bd417cb-a20d-400f-91a7-6208de09dd21"
      },
      "execution_count": 61,
      "outputs": [
        {
          "output_type": "stream",
          "name": "stdout",
          "text": [
            "Files already downloaded and verified\n",
            "Files already downloaded and verified\n"
          ]
        }
      ]
    },
    {
      "cell_type": "code",
      "source": [
        "train_loader = torch.utils.data.DataLoader(train_dataset\n",
        "    , batch_size = batch_size\n",
        "    , shuffle = True)\n",
        "test_loader = torch.utils.data.DataLoader(test_dataset\n",
        "    , batch_size = batch_size\n",
        "    , shuffle = True)\n",
        "n_total_step = len(train_loader)\n",
        "print(n_total_step)"
      ],
      "metadata": {
        "colab": {
          "base_uri": "https://localhost:8080/"
        },
        "id": "7gg1e8qEPV-p",
        "outputId": "df9c788f-f5d3-4d64-c673-dafbb356c480"
      },
      "execution_count": 62,
      "outputs": [
        {
          "output_type": "stream",
          "name": "stdout",
          "text": [
            "1000\n"
          ]
        }
      ]
    },
    {
      "cell_type": "code",
      "source": [
        "model = models.vgg16(pretrained = True)\n",
        "input_lastLayer = model.classifier[6].in_features\n",
        "model.classifier[6] = nn.Linear(input_lastLayer,10)\n",
        "model = model.to(device)\n",
        "criterion = nn.CrossEntropyLoss()\n",
        "optimizer = torch.optim.SGD(model.parameters(), lr = learning_rate, momentum=0.9,weight_decay=5e-4)\n",
        "scheduler = torch.optim.lr_scheduler.CosineAnnealingLR(optimizer, T_max=200)"
      ],
      "metadata": {
        "id": "6JCZn_OYPV8b"
      },
      "execution_count": 63,
      "outputs": []
    },
    {
      "cell_type": "code",
      "source": [
        "for epoch in range(num_epochs):\n",
        "  for i, (imgs , labels) in enumerate(train_loader):\n",
        "    imgs = imgs.to(device)\n",
        "    labels = labels.to(device)\n",
        "    scheduler.step()\n",
        "    labels_hat = model(imgs)\n",
        "    n_corrects = (labels_hat.argmax(axis=1)==labels).sum().item()\n",
        "    loss_value = criterion(labels_hat, labels)\n",
        "    loss_value.backward()\n",
        "    optimizer.step()\n",
        "    optimizer.zero_grad()\n",
        "    if (i+1) % 250 == 0:\n",
        "        print(f'epoch {epoch+1}/{num_epochs}, step: {i+1}/{n_total_step}: loss = {loss_value:.5f}, acc = {100*(n_corrects/labels.size(0)):.2f}%')\n",
        "print()\n"
      ],
      "metadata": {
        "colab": {
          "base_uri": "https://localhost:8080/"
        },
        "id": "GleKIKYGPV6I",
        "outputId": "79243837-d84d-419a-c504-0fc8d96a077e"
      },
      "execution_count": 64,
      "outputs": [
        {
          "output_type": "stream",
          "name": "stderr",
          "text": [
            "/usr/local/lib/python3.7/dist-packages/torch/optim/lr_scheduler.py:134: UserWarning: Detected call of `lr_scheduler.step()` before `optimizer.step()`. In PyTorch 1.1.0 and later, you should call them in the opposite order: `optimizer.step()` before `lr_scheduler.step()`.  Failure to do this will result in PyTorch skipping the first value of the learning rate schedule. See more details at https://pytorch.org/docs/stable/optim.html#how-to-adjust-learning-rate\n",
            "  \"https://pytorch.org/docs/stable/optim.html#how-to-adjust-learning-rate\", UserWarning)\n"
          ]
        },
        {
          "output_type": "stream",
          "name": "stdout",
          "text": [
            "epoch 1/15, step: 250/1000: loss = 0.53484, acc = 80.00%\n",
            "epoch 1/15, step: 500/1000: loss = 0.31149, acc = 90.00%\n",
            "epoch 1/15, step: 750/1000: loss = 0.22548, acc = 94.00%\n",
            "epoch 1/15, step: 1000/1000: loss = 0.49687, acc = 80.00%\n",
            "epoch 2/15, step: 250/1000: loss = 0.32111, acc = 90.00%\n",
            "epoch 2/15, step: 500/1000: loss = 0.48176, acc = 78.00%\n",
            "epoch 2/15, step: 750/1000: loss = 0.28813, acc = 90.00%\n",
            "epoch 2/15, step: 1000/1000: loss = 0.25983, acc = 88.00%\n",
            "epoch 3/15, step: 250/1000: loss = 0.19249, acc = 92.00%\n",
            "epoch 3/15, step: 500/1000: loss = 0.28964, acc = 90.00%\n",
            "epoch 3/15, step: 750/1000: loss = 0.28769, acc = 94.00%\n",
            "epoch 3/15, step: 1000/1000: loss = 0.31473, acc = 90.00%\n",
            "epoch 4/15, step: 250/1000: loss = 0.20866, acc = 94.00%\n",
            "epoch 4/15, step: 500/1000: loss = 0.29182, acc = 84.00%\n",
            "epoch 4/15, step: 750/1000: loss = 0.33411, acc = 88.00%\n",
            "epoch 4/15, step: 1000/1000: loss = 0.11889, acc = 96.00%\n",
            "epoch 5/15, step: 250/1000: loss = 0.37228, acc = 88.00%\n",
            "epoch 5/15, step: 500/1000: loss = 0.22924, acc = 94.00%\n",
            "epoch 5/15, step: 750/1000: loss = 0.06536, acc = 100.00%\n",
            "epoch 5/15, step: 1000/1000: loss = 0.21554, acc = 94.00%\n",
            "epoch 6/15, step: 250/1000: loss = 0.25594, acc = 90.00%\n",
            "epoch 6/15, step: 500/1000: loss = 0.16666, acc = 92.00%\n",
            "epoch 6/15, step: 750/1000: loss = 0.20452, acc = 96.00%\n",
            "epoch 6/15, step: 1000/1000: loss = 0.20909, acc = 92.00%\n",
            "epoch 7/15, step: 250/1000: loss = 0.30011, acc = 92.00%\n",
            "epoch 7/15, step: 500/1000: loss = 0.19401, acc = 92.00%\n",
            "epoch 7/15, step: 750/1000: loss = 0.29588, acc = 90.00%\n",
            "epoch 7/15, step: 1000/1000: loss = 0.19696, acc = 92.00%\n",
            "epoch 8/15, step: 250/1000: loss = 0.08976, acc = 98.00%\n",
            "epoch 8/15, step: 500/1000: loss = 0.06772, acc = 98.00%\n",
            "epoch 8/15, step: 750/1000: loss = 0.34204, acc = 92.00%\n",
            "epoch 8/15, step: 1000/1000: loss = 0.22428, acc = 92.00%\n",
            "epoch 9/15, step: 250/1000: loss = 0.11833, acc = 96.00%\n",
            "epoch 9/15, step: 500/1000: loss = 0.19060, acc = 94.00%\n",
            "epoch 9/15, step: 750/1000: loss = 0.18774, acc = 96.00%\n",
            "epoch 9/15, step: 1000/1000: loss = 0.13315, acc = 96.00%\n",
            "epoch 10/15, step: 250/1000: loss = 0.22152, acc = 92.00%\n",
            "epoch 10/15, step: 500/1000: loss = 0.04095, acc = 100.00%\n",
            "epoch 10/15, step: 750/1000: loss = 0.18607, acc = 92.00%\n",
            "epoch 10/15, step: 1000/1000: loss = 0.13806, acc = 96.00%\n",
            "epoch 11/15, step: 250/1000: loss = 0.04749, acc = 100.00%\n",
            "epoch 11/15, step: 500/1000: loss = 0.13229, acc = 94.00%\n",
            "epoch 11/15, step: 750/1000: loss = 0.09169, acc = 98.00%\n",
            "epoch 11/15, step: 1000/1000: loss = 0.15273, acc = 94.00%\n",
            "epoch 12/15, step: 250/1000: loss = 0.10626, acc = 96.00%\n",
            "epoch 12/15, step: 500/1000: loss = 0.05588, acc = 100.00%\n",
            "epoch 12/15, step: 750/1000: loss = 0.08691, acc = 96.00%\n",
            "epoch 12/15, step: 1000/1000: loss = 0.10635, acc = 94.00%\n",
            "epoch 13/15, step: 250/1000: loss = 0.16855, acc = 92.00%\n",
            "epoch 13/15, step: 500/1000: loss = 0.05152, acc = 98.00%\n",
            "epoch 13/15, step: 750/1000: loss = 0.07603, acc = 96.00%\n",
            "epoch 13/15, step: 1000/1000: loss = 0.12563, acc = 98.00%\n",
            "epoch 14/15, step: 250/1000: loss = 0.22625, acc = 92.00%\n",
            "epoch 14/15, step: 500/1000: loss = 0.02410, acc = 100.00%\n",
            "epoch 14/15, step: 750/1000: loss = 0.16994, acc = 94.00%\n",
            "epoch 14/15, step: 1000/1000: loss = 0.18807, acc = 90.00%\n",
            "epoch 15/15, step: 250/1000: loss = 0.06441, acc = 98.00%\n",
            "epoch 15/15, step: 500/1000: loss = 0.05908, acc = 98.00%\n",
            "epoch 15/15, step: 750/1000: loss = 0.10778, acc = 94.00%\n",
            "epoch 15/15, step: 1000/1000: loss = 0.06558, acc = 96.00%\n",
            "\n"
          ]
        }
      ]
    },
    {
      "cell_type": "code",
      "source": [
        "with torch.no_grad():\n",
        "    number_corrects = 0\n",
        "    number_samples = 0\n",
        "    for i, (test_images_set , test_labels_set) in enumerate(test_loader):\n",
        "        test_images_set = test_images_set.to(device)\n",
        "        test_labels_set = test_labels_set.to(device)\n",
        "    \n",
        "        y_predicted = model(test_images_set)\n",
        "        labels_predicted = y_predicted.argmax(axis = 1)\n",
        "        number_corrects += (labels_predicted==test_labels_set).sum().item()\n",
        "        number_samples += test_labels_set.size(0)\n",
        "    print(f'Overall accuracy {(number_corrects / number_samples)*100}%')"
      ],
      "metadata": {
        "id": "3nTfSRnNP0uf",
        "colab": {
          "base_uri": "https://localhost:8080/"
        },
        "outputId": "182a65af-1c46-4dbb-d270-c57e95e9fb72"
      },
      "execution_count": 65,
      "outputs": [
        {
          "output_type": "stream",
          "name": "stdout",
          "text": [
            "Overall accuracy 93.91000000000001%\n"
          ]
        }
      ]
    },
    {
      "cell_type": "code",
      "source": [
        "heatmap = pd.DataFrame(data=0,index=classes,columns=classes)\n",
        "with torch.no_grad():\n",
        "    for images, labels in test_loader:\n",
        "        images, labels = images.to(device), labels.to(device)\n",
        "        outputs = model(images)\n",
        "        _, predicted = torch.max(outputs, 1)\n",
        "        c = (predicted == labels).squeeze()\n",
        "        for i in range(batch_size):\n",
        "            true_label = labels[i].item()\n",
        "            predicted_label = predicted[i].item()\n",
        "            heatmap.iloc[true_label,predicted_label] += 1\n",
        "_, ax = plt.subplots(figsize=(10, 8))\n",
        "ax = sns.heatmap(heatmap, annot=True, fmt=\"d\",cmap=\"YlGnBu\")\n",
        "plt.show()"
      ],
      "metadata": {
        "id": "XZP9swDLP1Ry"
      },
      "execution_count": null,
      "outputs": []
    }
  ]
}